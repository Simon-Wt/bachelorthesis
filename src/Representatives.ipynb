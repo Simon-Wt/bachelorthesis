{
 "cells": [
  {
   "cell_type": "code",
   "execution_count": 95,
   "source": [
    "import re\r\n",
    "import json"
   ],
   "outputs": [],
   "metadata": {}
  },
  {
   "cell_type": "code",
   "execution_count": 96,
   "source": [
    "with open('../../generated_material/first_louvain_run/com0_coms_between2010_and_2015.json', encoding='utf-8-sig') as f:\r\n",
    "    data = json.load(f)\r\n",
    "    \r\n",
    "with open('../../generated_material/Conference_Id_name.json',encoding='utf-8-sig') as f:\r\n",
    "    conference_data = json.load(f)"
   ],
   "outputs": [],
   "metadata": {}
  },
  {
   "cell_type": "code",
   "execution_count": 97,
   "source": [
    "conference_data_dict = dict()\r\n",
    "for conf_data in conference_data:\r\n",
    "    conference_data_dict[conf_data['Id_Venue']] = conf_data['conference name']\r\n",
    "\r\n",
    "conference_data_dict"
   ],
   "outputs": [
    {
     "output_type": "execute_result",
     "data": {
      "text/plain": [
       "{30: 'international conference of the ieee engineering in medicine and biology society',\n",
       " 65: 'robot and human interactive communication',\n",
       " 104: 'symposium on principles of database systems',\n",
       " 122: 'acm sigplan symposium on principles and practice of parallel programming',\n",
       " 208: 'mobile adhoc and sensor systems',\n",
       " 235: 'international conference on computational linguistics',\n",
       " 256: 'international conference on learning representations',\n",
       " 293: 'passive and active network measurement',\n",
       " 339: 'computer and communications security',\n",
       " 343: 'hot topics in networks',\n",
       " 344: 'conference of the european chapter of the association for computational linguistics',\n",
       " 369: 'vehicular technology conference',\n",
       " 374: 'european symposium on research in computer security',\n",
       " 390: 'international symposium on biomedical imaging',\n",
       " 422: 'knowledge discovery and data mining',\n",
       " 507: 'international conference on management of data',\n",
       " 517: 'international conference on software testing verification and validation',\n",
       " 535: 'ieee automatic speech recognition and understanding workshop',\n",
       " 8228: 'international conference on communications',\n",
       " 8231: 'pacific-asia conference on knowledge discovery and data mining',\n",
       " 8235: 'international conference on data engineering',\n",
       " 8306: 'international symposium on computer architecture',\n",
       " 8335: 'asia and south pacific design automation conference',\n",
       " 8385: 'foundations of software engineering',\n",
       " 8422: 'computer aided verification',\n",
       " 8441: 'american control conference',\n",
       " 8494: 'international symposium on circuits and systems',\n",
       " 8500: 'international solid-state circuits conference',\n",
       " 8502: 'workshop on applications of computer vision',\n",
       " 8806: 'acm symposium on applied computing',\n",
       " 8839: 'acm ieee international conference on mobile computing and networking',\n",
       " 8840: 'empirical methods in natural language processing',\n",
       " 8868: 'international symposium on software testing and analysis',\n",
       " 8884: 'international semantic web conference',\n",
       " 8912: 'dependable systems and networks',\n",
       " 8927: 'web search and data mining',\n",
       " 8960: 'neural information processing systems',\n",
       " 8967: 'usenix conference on file and storage technologies',\n",
       " 9004: 'medical image computing and computer assisted intervention',\n",
       " 9015: 'international conference on embedded networked sensor systems',\n",
       " 9078: 'international conference on image processing',\n",
       " 9080: 'genetic and evolutionary computation conference',\n",
       " 9099: 'acm multimedia',\n",
       " 9244: 'high performance distributed computing',\n",
       " 9436: 'requirements engineering',\n",
       " 9438: 'conference on advanced information systems engineering',\n",
       " 9463: 'north american chapter of the association for computational linguistics',\n",
       " 9475: 'conference on decision and control',\n",
       " 9577: 'international joint conference on neural network',\n",
       " 9579: 'human robot interaction',\n",
       " 9589: 'conference on emerging network experiment and technology',\n",
       " 9616: 'international conference on pattern recognition',\n",
       " 9677: 'international joint conference on natural language processing',\n",
       " 9704: 'congress on evolutionary computation',\n",
       " 9713: 'advances in geographic information systems',\n",
       " 9748: 'international conference on parallel processing',\n",
       " 9766: 'network and distributed system security symposium',\n",
       " 9772: 'symposium on cloud computing',\n",
       " 9773: 'international conference on document analysis and recognition',\n",
       " 9804: 'conference of the international speech communication association',\n",
       " 9836: 'international symposium on microarchitecture',\n",
       " 9856: 'annual computer security applications conference',\n",
       " 9874: 'applied cryptography and network security',\n",
       " 9896: 'conference on computer supported cooperative work',\n",
       " 9913: 'personal indoor and mobile radio communications',\n",
       " 9969: 'international cryptology conference',\n",
       " 10140: 'ieee international conference on automatic face and gesture recognition',\n",
       " 10162: 'ieee international conference on pervasive computing and communications',\n",
       " 10174: 'international conference on automated planning and scheduling',\n",
       " 10192: 'international conference on computer communications and networks',\n",
       " 10228: 'wireless communications and networking conference',\n",
       " 10237: 'conference on recommender systems',\n",
       " 10286: 'public key cryptography',\n",
       " 10973: 'logic in computer science',\n",
       " 10994: 'asian conference on computer vision',\n",
       " 11052: 'european conference on computer vision',\n",
       " 11058: 'programming language design and implementation',\n",
       " 11104: 'international geoscience and remote sensing symposium',\n",
       " 11157: 'high performance computer architecture',\n",
       " 11166: 'international conference on data mining',\n",
       " 11187: 'international conference on artificial neural networks',\n",
       " 11223: 'operating systems design and implementation',\n",
       " 11317: 'user interface software and technology',\n",
       " 11321: 'international conference on machine learning',\n",
       " 11330: 'international conference on supercomputing',\n",
       " 11345: 'international conference on the theory and application of cryptology and information security',\n",
       " 11375: 'european conference on computer systems',\n",
       " 11470: 'international conference on multimedia and expo',\n",
       " 11491: 'international conference on multimedia retrieval',\n",
       " 11529: 'international conference on acoustics speech and signal processing',\n",
       " 20202: 'international conference on networks and communications',\n",
       " 20332: 'national conference on artificial intelligence',\n",
       " 20338: 'internet measurement conference',\n",
       " 20348: 'information processing in sensor networks',\n",
       " 20349: 'networked systems design and implementation',\n",
       " 20358: 'international world wide web conferences',\n",
       " 20411: 'international acm sigir conference on research and development in information retrieval',\n",
       " 20430: 'design automation and test in europe',\n",
       " 20515: 'international conference on biometrics',\n",
       " 20524: 'automated software engineering',\n",
       " 20552: 'uncertainty in artificial intelligence',\n",
       " 20561: 'hawaii international conference on system sciences',\n",
       " 20592: 'usenix security symposium',\n",
       " 20649: 'design automation conference',\n",
       " 20754: 'ieee symposium on security and privacy',\n",
       " 20774: 'acm symposium on parallel algorithms and architectures',\n",
       " 20796: 'conference on information and knowledge management',\n",
       " 20854: 'designing interactive systems',\n",
       " 20876: 'usenix technical conference',\n",
       " 20896: 'international conference on cyber-physical systems',\n",
       " 21022: 'symposium on operating systems principles',\n",
       " 21056: 'acm sigmm conference on multimedia systems',\n",
       " 21066: 'modeling and optimization in mobile ad hoc and wireless networks',\n",
       " 21089: 'meeting of the association for computational linguistics',\n",
       " 21102: 'ieee international conference on fuzzy systems',\n",
       " 21106: 'international conference on computer vision',\n",
       " 21855: 'acm/ieee international conference on mobile computing and networking',\n",
       " 21989: 'international conference on human-computer interaction',\n",
       " 22021: 'international symposium on information theory',\n",
       " 22035: 'quality of multimedia experience',\n",
       " 22051: 'siam international conference on data mining',\n",
       " 22086: 'international conference on mobile systems applications and services',\n",
       " 22113: 'international joint conference on artificial intelligence',\n",
       " 22130: 'british machine vision conference',\n",
       " 22164: 'conference on information sciences and systems',\n",
       " 22221: 'ieee european symposium on security and privacy',\n",
       " 22232: 'tools and algorithms for construction and analysis of systems',\n",
       " 22260: 'international conference on distributed computing systems',\n",
       " 22279: 'advanced video and signal based surveillance',\n",
       " 22288: 'international conference on cloud computing',\n",
       " 23497: 'architectural support for programming languages and operating systems',\n",
       " 23593: 'field programmable gate arrays',\n",
       " 23619: 'european semantic web conference',\n",
       " 23620: 'symposium on principles of programming languages',\n",
       " 23634: 'foundations of computer science',\n",
       " 23653: 'mobile ad hoc networking and computing',\n",
       " 23684: 'symposium on discrete algorithms',\n",
       " 23712: 'international conference on network protocols',\n",
       " 23735: 'intelligent robots and systems',\n",
       " 23749: 'cluster computing and the grid',\n",
       " 23757: 'advances in social networks analysis and mining',\n",
       " 23827: 'international conference on software engineering',\n",
       " 23836: 'international parallel and distributed processing symposium',\n",
       " 23845: 'robotics: science and systems',\n",
       " 23865: 'mining software repositories',\n",
       " 23876: 'international conference on program comprehension',\n",
       " 23907: 'custom integrated circuits conference',\n",
       " 23922: 'computational learning theory'}"
      ]
     },
     "metadata": {},
     "execution_count": 97
    }
   ],
   "metadata": {}
  },
  {
   "cell_type": "code",
   "execution_count": 98,
   "source": [
    "import re\r\n",
    "import numpy as np\r\n",
    "import pandas as pd \r\n",
    "\r\n",
    "import gensim\r\n",
    "import gensim.corpora as corpora\r\n",
    "from gensim.models import Phrases\r\n",
    "from gensim.models.phrases import Phraser\r\n",
    "\r\n",
    "from nltk.tokenize import word_tokenize\r\n",
    "from nltk.corpus import stopwords\r\n",
    "from nltk.stem import WordNetLemmatizer\r\n",
    "\r\n",
    "from sklearn.decomposition import LatentDirichletAllocation\r\n",
    "from sklearn.feature_extraction.text import CountVectorizer, TfidfTransformer\r\n",
    "\r\n",
    "import matplotlib.pyplot as plt\r\n",
    "\r\n",
    "%matplotlib inline\r\n",
    "import warnings\r\n",
    "warnings.filterwarnings(\"ignore\",category=DeprecationWarning)  \r\n",
    "\r\n",
    "stop_words = set(stopwords.words('english'))\r\n",
    "latex_regex = r\"(\\$+)(?:(?!\\1)[\\s\\S])*\\1\"\r\n",
    "lmtzr = WordNetLemmatizer()"
   ],
   "outputs": [],
   "metadata": {}
  },
  {
   "cell_type": "code",
   "execution_count": 99,
   "source": [
    "articles_df = pd.DataFrame(data)\r\n",
    "articles_df.dropna(inplace=True)\r\n",
    "articles_df.head()"
   ],
   "outputs": [
    {
     "output_type": "execute_result",
     "data": {
      "text/html": [
       "<div>\n",
       "<style scoped>\n",
       "    .dataframe tbody tr th:only-of-type {\n",
       "        vertical-align: middle;\n",
       "    }\n",
       "\n",
       "    .dataframe tbody tr th {\n",
       "        vertical-align: top;\n",
       "    }\n",
       "\n",
       "    .dataframe thead th {\n",
       "        text-align: right;\n",
       "    }\n",
       "</style>\n",
       "<table border=\"1\" class=\"dataframe\">\n",
       "  <thead>\n",
       "    <tr style=\"text-align: right;\">\n",
       "      <th></th>\n",
       "      <th>ID_Article</th>\n",
       "      <th>communityId</th>\n",
       "      <th>ID_RelatedVenue</th>\n",
       "      <th>title</th>\n",
       "      <th>year</th>\n",
       "      <th>abstract</th>\n",
       "    </tr>\n",
       "  </thead>\n",
       "  <tbody>\n",
       "    <tr>\n",
       "      <th>0</th>\n",
       "      <td>2673736</td>\n",
       "      <td>15226</td>\n",
       "      <td>30</td>\n",
       "      <td>CIDI-lung-seg: a single-click annotation tool ...</td>\n",
       "      <td>2014</td>\n",
       "      <td>Accurate and fast extraction of lung volumes f...</td>\n",
       "    </tr>\n",
       "    <tr>\n",
       "      <th>1</th>\n",
       "      <td>2727060</td>\n",
       "      <td>15226</td>\n",
       "      <td>30</td>\n",
       "      <td>Novel wireless-communicating textiles made fro...</td>\n",
       "      <td>2014</td>\n",
       "      <td>The ability to integrate multiple materials in...</td>\n",
       "    </tr>\n",
       "    <tr>\n",
       "      <th>2</th>\n",
       "      <td>2549308</td>\n",
       "      <td>14040</td>\n",
       "      <td>30</td>\n",
       "      <td>A Wearable, Wireless Gaze Tracker with Integra...</td>\n",
       "      <td>2011</td>\n",
       "      <td>A light-weight, wearable, wireless gaze tracke...</td>\n",
       "    </tr>\n",
       "    <tr>\n",
       "      <th>3</th>\n",
       "      <td>2553223</td>\n",
       "      <td>15226</td>\n",
       "      <td>30</td>\n",
       "      <td>A RESTful Image Gateway for Multiple Medical I...</td>\n",
       "      <td>2012</td>\n",
       "      <td>Mobile technologies are increasingly important...</td>\n",
       "    </tr>\n",
       "    <tr>\n",
       "      <th>4</th>\n",
       "      <td>2489547</td>\n",
       "      <td>15226</td>\n",
       "      <td>30</td>\n",
       "      <td>Adaptive Beat-to-Beat Heart Rate Estimation in...</td>\n",
       "      <td>2011</td>\n",
       "      <td>A ballistocardiograph records the mechanical a...</td>\n",
       "    </tr>\n",
       "  </tbody>\n",
       "</table>\n",
       "</div>"
      ],
      "text/plain": [
       "   ID_Article  communityId  ID_RelatedVenue  \\\n",
       "0     2673736        15226               30   \n",
       "1     2727060        15226               30   \n",
       "2     2549308        14040               30   \n",
       "3     2553223        15226               30   \n",
       "4     2489547        15226               30   \n",
       "\n",
       "                                               title  year  \\\n",
       "0  CIDI-lung-seg: a single-click annotation tool ...  2014   \n",
       "1  Novel wireless-communicating textiles made fro...  2014   \n",
       "2  A Wearable, Wireless Gaze Tracker with Integra...  2011   \n",
       "3  A RESTful Image Gateway for Multiple Medical I...  2012   \n",
       "4  Adaptive Beat-to-Beat Heart Rate Estimation in...  2011   \n",
       "\n",
       "                                            abstract  \n",
       "0  Accurate and fast extraction of lung volumes f...  \n",
       "1  The ability to integrate multiple materials in...  \n",
       "2  A light-weight, wearable, wireless gaze tracke...  \n",
       "3  Mobile technologies are increasingly important...  \n",
       "4  A ballistocardiograph records the mechanical a...  "
      ]
     },
     "metadata": {},
     "execution_count": 99
    }
   ],
   "metadata": {}
  },
  {
   "cell_type": "code",
   "execution_count": 100,
   "source": [
    "articles_df['communityId'].value_counts()"
   ],
   "outputs": [
    {
     "output_type": "execute_result",
     "data": {
      "text/plain": [
       "15226    14646\n",
       "13990    14131\n",
       "14010     9793\n",
       "14125     9772\n",
       "14133     8628\n",
       "15258     6891\n",
       "14127     4919\n",
       "15237     4848\n",
       "15517     4693\n",
       "14040     4684\n",
       "15514     4370\n",
       "14018     4152\n",
       "15510     2690\n",
       "Name: communityId, dtype: int64"
      ]
     },
     "metadata": {},
     "execution_count": 100
    }
   ],
   "metadata": {}
  },
  {
   "cell_type": "code",
   "execution_count": 101,
   "source": [
    "# Input Community to perform analysis on\r\n",
    "community_id_to_use = 15510"
   ],
   "outputs": [],
   "metadata": {}
  },
  {
   "cell_type": "code",
   "execution_count": 102,
   "source": [
    "df_articles_ofCom = articles_df[articles_df['communityId'] == community_id_to_use]\r\n",
    "df_articles_ofCom.head()"
   ],
   "outputs": [
    {
     "output_type": "execute_result",
     "data": {
      "text/html": [
       "<div>\n",
       "<style scoped>\n",
       "    .dataframe tbody tr th:only-of-type {\n",
       "        vertical-align: middle;\n",
       "    }\n",
       "\n",
       "    .dataframe tbody tr th {\n",
       "        vertical-align: top;\n",
       "    }\n",
       "\n",
       "    .dataframe thead th {\n",
       "        text-align: right;\n",
       "    }\n",
       "</style>\n",
       "<table border=\"1\" class=\"dataframe\">\n",
       "  <thead>\n",
       "    <tr style=\"text-align: right;\">\n",
       "      <th></th>\n",
       "      <th>ID_Article</th>\n",
       "      <th>communityId</th>\n",
       "      <th>ID_RelatedVenue</th>\n",
       "      <th>title</th>\n",
       "      <th>year</th>\n",
       "      <th>abstract</th>\n",
       "    </tr>\n",
       "  </thead>\n",
       "  <tbody>\n",
       "    <tr>\n",
       "      <th>56</th>\n",
       "      <td>2224993</td>\n",
       "      <td>15510</td>\n",
       "      <td>30</td>\n",
       "      <td>Design and Evaluation of a Telemonitoring Conc...</td>\n",
       "      <td>2012</td>\n",
       "      <td>Utilization of information and communication t...</td>\n",
       "    </tr>\n",
       "    <tr>\n",
       "      <th>172</th>\n",
       "      <td>1452319</td>\n",
       "      <td>15510</td>\n",
       "      <td>30</td>\n",
       "      <td>ECG-Cryptography and Authentication in Body Ar...</td>\n",
       "      <td>2012</td>\n",
       "      <td>Wireless body area networks (BANs) have drawn ...</td>\n",
       "    </tr>\n",
       "    <tr>\n",
       "      <th>243</th>\n",
       "      <td>897316</td>\n",
       "      <td>15510</td>\n",
       "      <td>30</td>\n",
       "      <td>Analysis of Using Interpulse Intervals to Gene...</td>\n",
       "      <td>2012</td>\n",
       "      <td>Wireless body sensor network (WBSN), a key bui...</td>\n",
       "    </tr>\n",
       "    <tr>\n",
       "      <th>971</th>\n",
       "      <td>2230990</td>\n",
       "      <td>15510</td>\n",
       "      <td>122</td>\n",
       "      <td>ZOOMM: a parallel web browser engine for multi...</td>\n",
       "      <td>2013</td>\n",
       "      <td>We explore the challenges in expressing and ma...</td>\n",
       "    </tr>\n",
       "    <tr>\n",
       "      <th>1106</th>\n",
       "      <td>2417886</td>\n",
       "      <td>15510</td>\n",
       "      <td>208</td>\n",
       "      <td>Covert DCF: A DCF-Based Covert Timing Channel ...</td>\n",
       "      <td>2011</td>\n",
       "      <td>Covert communications have been used for many ...</td>\n",
       "    </tr>\n",
       "  </tbody>\n",
       "</table>\n",
       "</div>"
      ],
      "text/plain": [
       "      ID_Article  communityId  ID_RelatedVenue  \\\n",
       "56       2224993        15510               30   \n",
       "172      1452319        15510               30   \n",
       "243       897316        15510               30   \n",
       "971      2230990        15510              122   \n",
       "1106     2417886        15510              208   \n",
       "\n",
       "                                                  title  year  \\\n",
       "56    Design and Evaluation of a Telemonitoring Conc...  2012   \n",
       "172   ECG-Cryptography and Authentication in Body Ar...  2012   \n",
       "243   Analysis of Using Interpulse Intervals to Gene...  2012   \n",
       "971   ZOOMM: a parallel web browser engine for multi...  2013   \n",
       "1106  Covert DCF: A DCF-Based Covert Timing Channel ...  2011   \n",
       "\n",
       "                                               abstract  \n",
       "56    Utilization of information and communication t...  \n",
       "172   Wireless body area networks (BANs) have drawn ...  \n",
       "243   Wireless body sensor network (WBSN), a key bui...  \n",
       "971   We explore the challenges in expressing and ma...  \n",
       "1106  Covert communications have been used for many ...  "
      ]
     },
     "metadata": {},
     "execution_count": 102
    }
   ],
   "metadata": {}
  },
  {
   "cell_type": "markdown",
   "source": [
    "display articles in the community disributed by the year they were published in and see if any patterns can be found"
   ],
   "metadata": {}
  },
  {
   "cell_type": "code",
   "execution_count": 103,
   "source": [
    "ax = df_articles_ofCom[['year']].sort_values(by='year').value_counts(sort=False).plot( \r\n",
    "                                                                       figsize=(15,6), \r\n",
    "                                                                       title='Distribution of articles against the year it was published in')\r\n",
    "ax.set_xlabel('Publication Year')\r\n",
    "ax.set_ylabel('No. of articles published')\r\n",
    "plt.legend([\"Published Articles\"])"
   ],
   "outputs": [
    {
     "output_type": "execute_result",
     "data": {
      "text/plain": [
       "<matplotlib.legend.Legend at 0x15a9e8671c0>"
      ]
     },
     "metadata": {},
     "execution_count": 103
    },
    {
     "output_type": "display_data",
     "data": {
      "image/png": "[encoded data removed]",
      "text/plain": [
       "<Figure size 1080x432 with 1 Axes>"
      ]
     },
     "metadata": {
      "needs_background": "light"
     }
    }
   ],
   "metadata": {}
  },
  {
   "cell_type": "code",
   "execution_count": 104,
   "source": [
    "ax = df_articles_ofCom[['ID_RelatedVenue']].value_counts(sort=False).plot(kind='bar',colormap = 'BrBG_r',\r\n",
    "                                                                       figsize=(15,6), \r\n",
    "                                                                       title='Distribution of articles against the venue it was presented in')\r\n",
    "ax.set_xlabel('Publication Venue')\r\n",
    "ax.set_ylabel('No. of articles presented')\r\n",
    "plt.legend([\"Presented Article\"])"
   ],
   "outputs": [
    {
     "output_type": "execute_result",
     "data": {
      "text/plain": [
       "<matplotlib.legend.Legend at 0x15a9eade970>"
      ]
     },
     "metadata": {},
     "execution_count": 104
    },
    {
     "output_type": "display_data",
     "data": {
      "image/png": "[encoded data removed]",
      "text/plain": [
       "<Figure size 1080x432 with 1 Axes>"
      ]
     },
     "metadata": {
      "needs_background": "light"
     }
    }
   ],
   "metadata": {}
  },
  {
   "cell_type": "code",
   "execution_count": 105,
   "source": [
    "print(conference_data_dict[9078])\r\n",
    "print(conference_data_dict[390])"
   ],
   "outputs": [
    {
     "output_type": "stream",
     "name": "stdout",
     "text": [
      "international conference on image processing\n",
      "international symposium on biomedical imaging\n"
     ]
    }
   ],
   "metadata": {}
  },
  {
   "cell_type": "code",
   "execution_count": 106,
   "source": [
    "titles_df = pd.DataFrame()"
   ],
   "outputs": [],
   "metadata": {}
  },
  {
   "cell_type": "markdown",
   "source": [
    "## Analysis on the titles of the articles"
   ],
   "metadata": {}
  },
  {
   "cell_type": "markdown",
   "source": [
    "text preprocessing\r\n",
    "1. Removing unwanted characters\r\n",
    "2. Casting to lower case\r\n",
    "3. Tokenization\r\n",
    "4. Removing stop_words\r\n",
    "5. Lemmatization"
   ],
   "metadata": {}
  },
  {
   "cell_type": "code",
   "execution_count": 107,
   "source": [
    "stop_words.update(['based', 'using', 'A', 'The'])\r\n",
    "\r\n",
    "titles_df['processed_words'] = df_articles_ofCom.apply(lambda row: (re.sub(\"[^A-Za-z0-9' ]+\", ' ', row['title'])),axis=1)\r\n",
    "titles_df['processed_words'] = titles_df.apply(lambda row: row['processed_words'].lower(), axis = 1)\r\n",
    "titles_df['processed_words'] = titles_df.apply(lambda row: (word_tokenize(row['processed_words'])), axis = 1)\r\n",
    "titles_df['processed_words'] = titles_df.apply(lambda row: ([w for w in row['processed_words'] if w not in stop_words]), axis=1)\r\n",
    "titles_df['processed_words'] = titles_df.apply(lambda row: ([lmtzr.lemmatize(w) for w in row['processed_words']]), axis=1)\r\n",
    "titles_df['concatenated_words'] = titles_df.apply(lambda row: ' '.join(row['processed_words']), axis=1)\r\n",
    "all_titles = ' '.join(titles_df['concatenated_words'].str.lower())"
   ],
   "outputs": [],
   "metadata": {}
  },
  {
   "cell_type": "markdown",
   "source": [
    "Next we take a look at top 30 words and the number of times they have been used in the article titles."
   ],
   "metadata": {}
  },
  {
   "cell_type": "code",
   "execution_count": 108,
   "source": [
    "# Define helper functions\r\n",
    "def get_top_n_words(n_top_words, count_vectorizer, text_data):\r\n",
    "    '''\r\n",
    "    returns a tuple of the top n words in a sample and their \r\n",
    "    accompanying counts, given a CountVectorizer object and text sample\r\n",
    "    '''\r\n",
    "    vectorized_headlines = count_vectorizer.fit_transform(text_data.values)\r\n",
    "    vectorized_total = np.sum(vectorized_headlines, axis=0)\r\n",
    "    word_indices = np.flip(np.argsort(vectorized_total)[0,:], 1)\r\n",
    "    word_values = np.flip(np.sort(vectorized_total)[0,:],1)\r\n",
    "    \r\n",
    "    word_vectors = np.zeros((n_top_words, vectorized_headlines.shape[1]))\r\n",
    "    for i in range(n_top_words):\r\n",
    "        word_vectors[i,word_indices[0,i]] = 1\r\n",
    "\r\n",
    "    words = [word[0].encode('ascii').decode('utf-8') for \r\n",
    "             word in count_vectorizer.inverse_transform(word_vectors)]\r\n",
    "\r\n",
    "    return (words, word_values[0,:n_top_words].tolist()[0])\r\n",
    "\r\n",
    "\r\n",
    "count_vectorizer = CountVectorizer(stop_words=stop_words)\r\n",
    "words, word_values = get_top_n_words(n_top_words=30,\r\n",
    "                                     count_vectorizer=count_vectorizer, \r\n",
    "                                     text_data=titles_df['concatenated_words'])\r\n",
    "\r\n",
    "fig, ax = plt.subplots(figsize=(10,4))\r\n",
    "ax.bar(range(len(words)), word_values);\r\n",
    "ax.set_xticks(range(len(words)));\r\n",
    "ax.set_xticklabels(words, rotation='vertical');\r\n",
    "ax.set_title('Top words in Article Titles (excluding stop words)');\r\n",
    "ax.set_xlabel('Word');\r\n",
    "ax.set_ylabel('Number of occurences');\r\n",
    "plt.show()"
   ],
   "outputs": [
    {
     "output_type": "display_data",
     "data": {
      "image/png": "[encoded data removed]",
      "text/plain": [
       "<Figure size 720x288 with 1 Axes>"
      ]
     },
     "metadata": {
      "needs_background": "light"
     }
    }
   ],
   "metadata": {}
  },
  {
   "cell_type": "markdown",
   "source": [
    "### Latent Discriminant Analysis (LDA) for topic modelling using only the titles of the articles"
   ],
   "metadata": {}
  },
  {
   "cell_type": "code",
   "execution_count": 109,
   "source": [
    "dictionary = corpora.Dictionary(titles_df['processed_words'])\r\n",
    "texts = titles_df['processed_words']\r\n",
    "corpus = [dictionary.doc2bow(text) for text in texts]"
   ],
   "outputs": [],
   "metadata": {}
  },
  {
   "cell_type": "code",
   "execution_count": 110,
   "source": [
    "tfidf = gensim.models.TfidfModel(corpus)\r\n",
    "corpus_tfidf = tfidf[corpus]"
   ],
   "outputs": [],
   "metadata": {}
  },
  {
   "cell_type": "code",
   "execution_count": 111,
   "source": [
    "total_topics = 10\r\n",
    "\r\n",
    "lda = gensim.models.LdaModel(corpus, id2word=dictionary, num_topics=total_topics)\r\n",
    "corpus_lda = lda[corpus_tfidf] # create a double wrapper over the original corpus: bow->tf"
   ],
   "outputs": [],
   "metadata": {}
  },
  {
   "cell_type": "markdown",
   "source": [
    "### Article titles with maximum correspondence to the top topic words."
   ],
   "metadata": {}
  },
  {
   "cell_type": "code",
   "execution_count": 112,
   "source": [
    "titles = titles_df['concatenated_words'].values\r\n",
    "\r\n",
    "count_vectorizer = CountVectorizer()\r\n",
    "counts = count_vectorizer.fit_transform(titles)\r\n",
    "tfidf_vectorizer = TfidfTransformer().fit(counts)\r\n",
    "tfidf_titles = tfidf_vectorizer.transform(counts)"
   ],
   "outputs": [],
   "metadata": {}
  },
  {
   "cell_type": "code",
   "execution_count": 113,
   "source": [
    "lda_model = LatentDirichletAllocation(n_components=10, max_iter=10, learning_method='online', learning_offset=50.,random_state=0).fit(tfidf_titles)\r\n",
    "lda_W = lda_model.transform(tfidf_titles)\r\n",
    "lda_H = lda_model.components_"
   ],
   "outputs": [],
   "metadata": {}
  },
  {
   "cell_type": "markdown",
   "source": [
    "## Analysis on the Abstracts of the Articles"
   ],
   "metadata": {}
  },
  {
   "cell_type": "code",
   "execution_count": 114,
   "source": [
    "abstracts_df = pd.DataFrame()\r\n",
    "\r\n",
    "stop_words.update(['based', 'using', 'A', 'The'])\r\n",
    "latex_regex = r\"(\\$+)(?:(?!\\1)[\\s\\S])*\\1\"\r\n",
    "\r\n",
    "## Cleaning the text of the abstract to remove or ignore unimportant symbols and characters\r\n",
    "abstracts_df['processed_words'] = df_articles_ofCom.apply(lambda row: (re.sub(\"[^A-Za-z0-9' ]+\", ' ', row['abstract'])),axis=1)\r\n",
    "abstracts_df['processed_words'] = abstracts_df.apply(lambda row: (re.sub(latex_regex, \"\", row['processed_words'])),axis=1)\r\n",
    "abstracts_df['processed_words'] = abstracts_df.apply(lambda row: row['processed_words'].lower(), axis = 1)\r\n",
    "abstracts_df['processed_words'] = abstracts_df.apply(lambda row: (word_tokenize(row['processed_words'])), axis = 1)\r\n",
    "abstracts_df['processed_words'] = abstracts_df.apply(lambda row: ([w for w in row['processed_words'] if w not in stop_words]), axis=1)\r\n",
    "abstracts_df['processed_words'] = abstracts_df.apply(lambda row: ([lmtzr.lemmatize(w) for w in row['processed_words']]), axis=1)\r\n",
    "abstracts_df['concatenated_words'] = abstracts_df.apply(lambda row: ' '.join(row['processed_words']), axis=1)"
   ],
   "outputs": [],
   "metadata": {}
  },
  {
   "cell_type": "code",
   "execution_count": 126,
   "source": [
    "pd.options.display.max_colwidth = 150\r\n",
    "print(df_articles_ofCom['abstract'])\r\n",
    "print(abstracts_df)"
   ],
   "outputs": [
    {
     "output_type": "stream",
     "name": "stdout",
     "text": [
      "56        Utilization of information and communication technologies such as mobile phones and wireless sensor networks becomes more and more common in the f...\n",
      "172       Wireless body area networks (BANs) have drawn much attention from research community and industry in recent years. Multimedia healthcare services ...\n",
      "243       Wireless body sensor network (WBSN), a key building block for m-Health, demands extremely stringent resource constraints and thus lightweight secu...\n",
      "971       We explore the challenges in expressing and managing concurrency in browsers on mobile devices. Browsers are complex applications that implement m...\n",
      "1106      Covert communications have been used for many decades. Accordingly, when digital communications moved to the forefront it was natural that covert ...\n",
      "                                                                                  ...                                                                          \n",
      "105380    BGP prefix hijacking remains a serious security threat to the Internet. Despite many detection mechanisms have been proposed, few of them are prac...\n",
      "105544    An era of cloud computing allows users to profit from many privileges. However, there are several new security challenges. In fact, anonymous pass...\n",
      "105847    Security policies, which specify what applications are allowed to do, are notoriously difficult to specify correctly. Many applications were found...\n",
      "106049    Integrated circuit authentication requires identification using un-clonable digital fingerprints. SRAM power-up state is one such fingerprinting m...\n",
      "106513    Physical Unclonable Functions (PUFs) are security primitives used in a number of security applications like authentication, identification, and se...\n",
      "Name: abstract, Length: 2690, dtype: object\n",
      "                                                                                                                                              processed_words  \\\n",
      "56      [utilization, information, communication, technology, mobile, phone, wireless, sensor, network, becomes, common, field, telemonitoring, chronic, d...   \n",
      "172     [wireless, body, area, network, ban, drawn, much, attention, research, community, industry, recent, year, multimedia, healthcare, service, provide...   \n",
      "243     [wireless, body, sensor, network, wbsn, key, building, block, health, demand, extremely, stringent, resource, constraint, thus, lightweight, secur...   \n",
      "971     [explore, challenge, expressing, managing, concurrency, browser, mobile, device, browser, complex, application, implement, multiple, standard, nee...   \n",
      "1106    [covert, communication, used, many, decade, accordingly, digital, communication, moved, forefront, natural, covert, channel, proposed, operate, ne...   \n",
      "...                                                                                                                                                       ...   \n",
      "105380  [bgp, prefix, hijacking, remains, serious, security, threat, internet, despite, many, detection, mechanism, proposed, practically, deployed, large...   \n",
      "105544  [era, cloud, computing, allows, user, profit, many, privilege, however, several, new, security, challenge, fact, anonymous, password, authenticati...   \n",
      "105847  [security, policy, specify, application, allowed, notoriously, difficult, specify, correctly, many, application, found, request, liberal, permissi...   \n",
      "106049  [integrated, circuit, authentication, requires, identification, un, clonable, digital, fingerprint, sram, power, state, one, fingerprinting, metho...   \n",
      "106513  [physical, unclonable, function, pufs, security, primitive, used, number, security, application, like, authentication, identification, secure, key...   \n",
      "\n",
      "                                                                                                                                           concatenated_words  \n",
      "56      utilization information communication technology mobile phone wireless sensor network becomes common field telemonitoring chronic disease providin...  \n",
      "172     wireless body area network ban drawn much attention research community industry recent year multimedia healthcare service provided ban available a...  \n",
      "243     wireless body sensor network wbsn key building block health demand extremely stringent resource constraint thus lightweight security method prefer...  \n",
      "971     explore challenge expressing managing concurrency browser mobile device browser complex application implement multiple standard need support legac...  \n",
      "1106    covert communication used many decade accordingly digital communication moved forefront natural covert channel proposed operate network covert cha...  \n",
      "...                                                                                                                                                       ...  \n",
      "105380  bgp prefix hijacking remains serious security threat internet despite many detection mechanism proposed practically deployed large scale inaccurac...  \n",
      "105544  era cloud computing allows user profit many privilege however several new security challenge fact anonymous password authentication traditional se...  \n",
      "105847  security policy specify application allowed notoriously difficult specify correctly many application found request liberal permission mobile platf...  \n",
      "106049  integrated circuit authentication requires identification un clonable digital fingerprint sram power state one fingerprinting method paper present...  \n",
      "106513  physical unclonable function pufs security primitive used number security application like authentication identification secure key generation puf...  \n",
      "\n",
      "[2690 rows x 2 columns]\n"
     ]
    }
   ],
   "metadata": {}
  },
  {
   "cell_type": "markdown",
   "source": [
    "pyLDAvis.enable_notebook()\r\n",
    "panel = gensim_models.prepare(lda, corpus_lda, dictionary, mds='tsne')\r\n",
    "panel"
   ],
   "metadata": {}
  },
  {
   "cell_type": "code",
   "execution_count": 158,
   "source": [
    "abstracts = abstracts_df['concatenated_words'].values\r\n",
    "\r\n",
    "count_vectorizer = CountVectorizer(ngram_range=(1,3))\r\n",
    "tf_abstracts = count_vectorizer.fit_transform(abstracts)\r\n",
    "tfidf_vectorizer = TfidfTransformer().fit(tf_abstracts)\r\n",
    "tfidf_abstracts = tfidf_vectorizer.transform(tf_abstracts)"
   ],
   "outputs": [],
   "metadata": {}
  },
  {
   "cell_type": "code",
   "execution_count": 131,
   "source": [
    "lda_model = LatentDirichletAllocation(n_components=10, max_iter=10, learning_method='online', learning_offset=50.,random_state=0).fit(tfidf_abstracts)\r\n",
    "abstracts_doc_topic_distr = lda_model.transform(tfidf_abstracts)\r\n",
    "abstracts_topic_word_distr = lda_model.components_"
   ],
   "outputs": [],
   "metadata": {}
  },
  {
   "cell_type": "code",
   "execution_count": 132,
   "source": [
    "def display_topics(topic_word_distr, doc_topic_distr, feature_names, title_list, no_top_words, no_top_documents):\r\n",
    "    for topic_idx, topic in enumerate(topic_word_distr):\r\n",
    "        print(\"TOPIC %d:\" % (topic_idx))\r\n",
    "        print(\"Top Words: \",\", \".join([feature_names[i] for i in topic.argsort()[:-no_top_words - 1:-1]]))\r\n",
    "        top_doc_indices = np.argsort( doc_topic_distr[:,topic_idx] )[::-1][0:no_top_documents]\r\n",
    "        print()\r\n",
    "        print(\"Article Titles:\")\r\n",
    "        for doc_index in top_doc_indices:\r\n",
    "            print(title_list[doc_index])\r\n",
    "        print()\r\n",
    "        print('*' * 100)\r\n",
    "            \r\n",
    "no_top_words = 15\r\n",
    "no_top_documents = 4     \r\n",
    "title_list = df_articles_ofCom['title'].tolist()\r\n",
    "tf_feature_names = count_vectorizer.get_feature_names()\r\n",
    "display_topics(abstracts_topic_word_distr, abstracts_doc_topic_distr, tf_feature_names, title_list, no_top_words, no_top_documents)"
   ],
   "outputs": [
    {
     "output_type": "stream",
     "name": "stdout",
     "text": [
      "TOPIC 0:\n",
      "Top Words:  call record, password field, threat probability, malware encounter, oasis, spm, passsec, password field user, cluster obtained, security analytics, field user, powerline, nist sp800, openflow verification, sp800\n",
      "\n",
      "Article Titles:\n",
      "Beheading hydras: performing effective botnet takedowns\n",
      "POSTER: How Distributed Are Today's DDoS Attacks?\n",
      "Statistical Properties of Pseudo Random Sequences and Experiments with PHP and Debian OpenSSL\n",
      "Verification of switching network properties using satisfiability\n",
      "\n",
      "****************************************************************************************************\n",
      "TOPIC 1:\n",
      "Top Words:  nullnullnullnullnullnullnullnullnullnullnullnullnullnullnullnullnullnullnullnullnullnullnullnullnullnullnullnullnullnullnullnullnullnullnullnullnullnullnullnullnullnullnullnullnullnullnullnullnullnullnullnullnullnullnullnullnullnullnullnullnullnullnullnullnullnullnullnullnullnullnullnullnullnullnullnullnullnullnullnullnullnullnullnullnullnullnullnullnullnullnullnullnullnullnullnullnullnullnullnullnullnullnullnullnullnullnullnullnullnullnullnullnullnullnullnullnullnullnullnullnullnullnullnullnullnullnullnullnullnull, moses, hollow, mpls, kaminsky, kaminsky cache poisoning, kaminsky cache, hollow captchas, tp, security profile, mpls tp, property cryptographic primitive, profile associated, model property, pbd\n",
      "\n",
      "Article Titles:\n",
      "Security Vulnerabilities of the Cisco IOS Implementation of the MPLS Transport Profile\n",
      "The state and evolution of privacy by design\n",
      "Symbolic Probabilistic Analysis of Off-Line Guessing\n",
      "The robustness of hollow CAPTCHAs\n",
      "\n",
      "****************************************************************************************************\n",
      "TOPIC 2:\n",
      "Top Words:  nullnullnullnullnullnullnullnullnullnullnullnullnullnullnullnullnullnullnullnullnullnullnullnullnullnullnullnullnullnullnullnullnullnullnullnullnullnullnullnullnullnullnullnullnullnullnullnullnullnullnullnullnullnullnullnullnullnullnullnullnullnullnullnullnullnullnullnullnullnullnullnullnullnullnullnullnullnullnullnullnullnullnullnullnullnullnullnullnullnullnullnullnullnullnullnullnullnullnullnullnullnullnullnullnullnullnullnullnullnullnullnullnullnullnullnullnullnullnullnullnullnullnullnullnullnullnullnullnullnullnullnullnullnullnullnullnullnullnullnullnullnullnullnullnullnullnullnullnullnullnullnullnullnullnullnullnullnullnullnullnullnullnullnullnullnullnullnullnullnullnullnullnullnullnullnullnullnullnullnullnullnullnullnullnullnullnullnullnullnullnullnullnullnullnullnullnullnullnullnullnullnullnullnullnullnullnullnullnullnullnullnullnullnullnullnullnullnullnullnullnullnullnullnullnullnullnullnullnullnullnullnullnullnullnullnullnullnullnullnullnullnullnullnullnullnullnullnullnullnullnullnullnullnullnullnullnullnullnullnullnullnullnullnullnullnullnullnullnullnullnullnullnullnullnullnullnullnullnullnullnullnullnullnullnullnullnullnullnullnullnullnullnullnullnullnullnullnullnullnullnullnullnullnullnullnullnullnullnullnullnullnullnullnullnullnullnullnullnullnullnullnullnullnullnullnullnullnullnullnullnullnullnullnullnullnullnullnullnullnullnullnullnullnullnullnullnullnullnullnullnullnullnullnullnullnullnullnullnullnullnullnullnullnullnullnullnullnullnullnullnullnullnullnullnullnullnullnullnullnullnullnullnullnullnullnullnullnullnullnullnullnullnullnullnullnullnullnullnullnullnullnullnullnullnullnullnullnullnullnullnullnullnullnullnullnullnullnullnullnullnullnullnullnullnullnullnullnullnullnullnullnullnullnullnullnullnullnullnullnullnullnullnullnullnullnullnullnullnullnullnullnullnullnullnullnullnullnullnullnullnullnullnullnullnullnullnullnullnullnullnullnullnullnullnullnullnullnullnullnullnullnullnullnullnullnullnullnullnullnullnullnullnullnullnullnullnullnullnullnullnullnullnullnullnullnullnullnullnullnullnullnullnullnullnullnullnullnullnullnullnullnullnullnullnullnullnullnullnullnull, nullnullnullnullnullnullnullnullnullnullnullnullnullnullnullnullnullnullnullnullnullnullnullnullnullnullnullnullnullnullnullnullnullnullnullnullnullnullnullnullnullnullnullnullnullnullnullnullnullnullnullnullnullnullnullnullnullnullnullnullnullnullnullnullnullnullnullnullnullnullnullnullnullnullnullnullnullnullnullnullnullnullnullnullnullnullnullnullnullnullnullnullnullnullnullnullnullnullnullnullnullnullnullnullnullnullnullnullnullnullnullnullnullnullnullnullnullnullnullnullnullnullnullnullnullnullnullnullnullnullnullnullnullnullnullnullnullnullnullnullnullnullnullnullnullnullnullnullnullnullnullnullnullnullnullnullnullnullnullnullnullnullnullnullnullnullnullnullnullnullnullnullnullnullnullnullnullnullnullnullnullnullnullnullnullnullnullnullnullnullnullnullnullnullnullnullnullnullnullnullnullnullnullnullnullnullnullnullnullnullnullnullnullnullnullnullnullnullnullnullnullnullnullnullnullnullnullnullnullnullnullnullnullnullnullnullnullnullnullnullnullnullnullnullnullnullnullnullnullnullnullnullnullnullnullnullnullnullnullnullnullnullnullnullnullnullnullnullnullnullnullnullnullnullnullnullnullnullnullnullnullnullnullnullnullnullnullnullnullnullnullnullnullnullnullnullnullnullnullnullnullnullnullnullnullnullnullnullnullnullnullnullnullnullnullnullnullnullnullnullnullnullnullnullnullnullnullnullnullnullnullnullnullnullnullnullnullnullnullnullnullnullnullnullnullnull, nullnullnullnullnullnullnullnullnullnullnullnullnullnullnullnullnullnullnullnullnullnullnullnullnullnullnullnullnullnullnullnullnullnullnullnullnullnullnullnullnullnullnullnullnullnullnullnullnullnullnullnullnullnullnullnullnullnullnullnullnullnullnullnullnullnullnullnullnullnullnullnullnullnullnullnullnullnullnullnullnullnullnullnullnullnullnullnullnullnullnullnullnullnullnullnullnullnullnullnullnullnullnullnullnullnullnullnullnullnullnullnullnullnullnullnullnullnullnullnullnullnullnullnullnullnullnullnullnullnullnullnullnullnullnullnullnullnullnullnullnullnullnullnullnullnullnullnullnullnullnullnullnullnullnullnullnullnullnullnullnullnullnullnullnullnullnullnullnullnullnullnullnullnullnullnullnullnullnullnullnullnullnullnullnullnullnullnullnullnullnullnullnullnullnullnullnullnullnullnullnullnullnullnullnullnullnullnullnullnullnullnullnullnullnullnullnullnullnullnullnullnullnullnullnullnullnullnullnullnullnullnullnullnullnullnullnullnullnullnullnullnullnullnullnullnullnullnullnullnullnullnullnullnullnullnullnullnullnullnullnullnullnullnullnullnullnullnullnullnullnullnullnullnullnullnullnullnullnullnullnullnullnullnullnullnullnullnullnullnullnullnullnullnullnullnullnullnullnullnullnullnullnullnullnullnullnullnullnullnullnullnullnullnullnullnullnullnullnullnullnullnullnullnullnullnullnullnullnullnullnullnullnullnullnullnullnullnullnullnullnullnullnullnullnullnullnullnullnullnullnullnullnullnullnullnullnullnullnullnullnullnullnullnullnullnullnullnullnullnullnullnullnullnullnullnullnullnullnullnullnullnullnullnullnullnullnullnullnullnullnullnullnullnullnullnullnullnullnullnullnullnull, garbling, security information worker, information worker, garbling scheme, ppk, survey system, online survey system, auction protocol, key management technology, advanced key, poster describe one, fit many intellectual\n",
      "\n",
      "Article Titles:\n",
      "Tor instead of IP\n",
      "Foundations of garbled circuits\n",
      "Defining verifiability in e-auction protocols\n",
      "Proof of plaintext knowledge for code-based public-key encryption revisited\n",
      "\n",
      "****************************************************************************************************\n",
      "TOPIC 3:\n",
      "Top Words:  nullnullnullnullnullnullnullnullnullnullnullnullnullnullnullnullnullnullnullnullnullnullnullnullnullnullnullnullnullnullnullnullnullnullnullnullnullnullnullnullnullnullnullnullnullnullnullnullnullnullnullnullnullnullnullnullnullnullnullnullnullnullnullnullnullnullnullnullnullnullnullnullnullnullnullnullnullnullnullnullnullnullnullnullnullnullnullnullnullnullnullnullnullnullnullnullnullnullnullnullnullnullnullnullnullnullnullnullnullnullnullnullnullnullnullnullnullnullnullnullnullnullnullnullnullnullnullnullnullnullnullnullnullnullnullnullnullnullnullnullnullnullnullnullnullnullnullnullnullnullnullnullnullnullnullnullnullnullnullnullnullnullnullnullnullnullnullnullnullnullnullnullnullnullnullnullnullnullnullnullnullnullnullnullnullnullnullnullnullnullnullnullnullnullnullnullnullnullnullnullnullnullnullnullnullnullnullnullnullnullnullnullnullnullnullnullnullnullnullnullnullnullnullnullnullnullnullnullnullnullnullnullnullnullnullnullnullnullnullnullnullnullnullnullnullnullnullnullnullnullnullnullnullnullnullnullnullnullnullnullnullnullnullnullnullnullnullnullnullnullnullnullnullnullnullnullnullnullnullnullnullnull, atra, designated confirmer, peripheral firmware, external monitor, invisibility, designated confirmer signature, malicious peer, choking algorithm, trust evidence, choking, leechers, oto, bsse, integrity peripheral\n",
      "\n",
      "Article Titles:\n",
      "Poster: Destabilizing BitTorrent's clusters to attack high bandwidth leechers\n",
      "ATRA: Address Translation Redirection Attack against Hardware-based External Monitors\n",
      "OTO: online trust oracle for user-centric trust establishment\n",
      "Boolean symmetric searchable encryption\n",
      "\n",
      "****************************************************************************************************\n",
      "TOPIC 4:\n",
      "Top Words:  nullnullnullnullnullnullnullnullnullnullnullnullnullnullnullnullnullnullnullnullnullnullnullnullnullnullnullnullnullnullnullnullnullnullnullnullnullnullnullnullnullnullnullnullnullnullnullnullnullnullnullnullnullnullnullnullnullnullnullnullnullnullnullnullnullnullnullnullnullnullnullnullnullnullnullnullnullnullnullnullnullnullnullnullnullnullnullnullnullnullnullnullnullnullnullnullnullnullnullnullnullnullnullnullnullnullnullnullnullnullnullnullnullnullnullnullnullnullnullnullnullnullnullnullnullnullnullnullnullnullnullnullnullnullnullnullnullnullnullnullnullnullnullnullnullnullnullnullnullnullnullnullnullnullnullnullnullnullnullnullnullnullnullnullnullnullnullnullnullnullnullnullnullnullnullnullnullnullnullnullnullnullnullnullnullnullnullnullnullnullnullnullnullnullnullnullnullnullnullnullnullnullnullnullnullnullnullnullnullnullnullnullnullnullnullnullnullnullnullnullnullnullnullnullnullnullnullnullnullnullnullnull, nullnullnullnullnullnullnullnullnullnullnullnullnullnullnullnullnullnullnullnullnullnullnullnullnullnullnullnullnullnullnullnullnullnullnullnullnullnullnullnullnullnullnullnullnullnullnullnullnullnullnullnullnullnullnullnullnullnullnullnullnullnullnullnullnullnullnullnullnullnullnullnullnullnullnullnullnullnullnullnullnullnullnullnullnullnullnullnullnullnullnullnullnullnullnullnullnullnullnullnullnullnullnullnullnullnullnullnullnullnullnullnullnullnullnullnullnullnullnullnullnullnullnullnullnullnullnullnullnullnullnullnullnullnullnullnullnullnullnullnullnullnullnullnullnullnullnullnullnullnullnullnullnullnullnullnullnullnullnullnullnullnullnullnullnullnullnullnullnullnullnullnullnullnullnullnullnullnullnullnullnullnullnullnullnullnullnullnullnullnullnullnullnullnullnullnullnullnullnullnullnullnullnullnullnullnullnullnullnullnullnullnullnullnullnullnullnullnullnullnullnullnullnullnullnullnullnullnullnullnullnullnullnullnullnullnullnullnullnullnullnullnullnullnullnullnullnullnullnullnullnullnullnullnullnullnullnullnullnullnullnullnullnullnullnullnullnullnullnullnullnullnullnullnullnullnullnullnullnullnullnullnullnullnullnullnullnullnullnullnullnullnullnullnullnullnullnullnullnullnullnullnullnullnullnullnullnullnullnullnullnullnullnullnullnullnullnullnullnullnullnullnullnullnullnullnullnullnullnullnullnullnullnullnullnullnullnullnull, trust negotiation, kripke semantics, belief semantics, alibi, rmtn, kripke, horn, kea opacity, opacity, kea, mqv, esorics 2012 17th, research computer\n",
      "\n",
      "Article Titles:\n",
      "Dismantling iClass and iClass Elite\n",
      "Belief semantics of authorization logic\n",
      "POSTER: A Hybrid Botnet Ecological Environment\n",
      "OAKE: a new family of implicitly authenticated diffie-hellman protocols\n",
      "\n",
      "****************************************************************************************************\n",
      "TOPIC 5:\n",
      "Top Words:  tmd, warning message, so, vigilare system, vigilare, dcg, dcg captchas, dk, tmd attack, dk tmd, snoop, fourth factor authentication, responsibility shifting, fourth factor, zoomm\n",
      "\n",
      "Article Titles:\n",
      "New time-memory-data trade-off attack on the estream finalists and modes of operation of block ciphers\n",
      "Vigilare: toward snoop-based kernel integrity monitor\n",
      "Towards measuring warning readability\n",
      "ZOOMM: a parallel web browser engine for multicore mobile devices\n",
      "\n",
      "****************************************************************************************************\n",
      "TOPIC 6:\n",
      "Top Words:  nullnullnullnullnullnullnullnullnullnullnullnullnullnullnullnullnullnullnullnullnullnullnullnullnullnullnullnullnullnullnullnullnullnullnullnullnullnullnullnullnullnullnullnullnullnullnullnullnullnullnullnullnullnullnullnullnullnullnullnullnullnullnullnullnullnullnullnullnullnullnullnullnullnullnullnullnullnullnullnullnullnullnullnullnullnullnullnullnullnullnullnullnullnullnullnullnullnullnullnullnullnullnullnullnullnullnullnullnullnullnullnullnullnullnullnullnullnullnullnullnullnullnullnullnullnullnullnullnullnullnullnullnullnullnullnullnullnullnullnullnullnullnullnullnullnullnullnullnullnullnullnullnullnullnullnullnullnullnullnullnullnullnullnullnullnullnullnullnullnullnullnullnullnullnullnullnullnullnullnullnullnullnullnullnullnullnullnullnullnullnullnullnullnullnullnullnullnullnullnullnullnullnullnullnullnullnullnullnullnullnullnullnullnullnullnullnullnullnullnullnullnullnullnullnullnullnullnullnullnullnullnullnullnullnullnullnullnullnullnullnullnullnullnullnullnullnullnullnullnullnullnullnullnullnullnullnullnullnullnullnullnullnullnullnullnullnullnullnullnullnullnullnullnullnullnullnullnullnullnullnullnullnullnullnullnullnullnullnullnullnullnullnullnullnullnullnullnullnullnullnullnullnullnullnullnullnullnullnullnullnullnullnullnullnullnullnullnullnullnullnullnullnullnullnullnullnullnullnullnullnullnullnullnullnullnullnullnullnullnullnullnullnullnullnullnullnullnullnullnullnullnullnullnullnullnullnullnullnullnullnullnullnullnullnullnullnullnullnullnullnullnullnullnullnullnullnullnullnullnullnullnullnullnullnullnullnullnullnullnullnullnullnullnullnullnullnullnullnullnullnullnullnullnullnullnullnullnullnullnullnullnullnullnullnullnullnullnullnullnullnullnullnullnullnullnullnullnullnullnullnullnullnullnullnullnullnullnullnullnullnullnullnullnullnullnullnullnullnullnullnullnullnullnullnullnullnullnullnullnullnullnullnullnullnullnullnullnullnullnullnullnullnullnullnullnullnullnullnullnullnullnullnullnullnullnullnullnullnullnullnullnullnullnullnullnullnullnullnullnullnullnullnullnullnullnullnullnullnullnullnullnullnullnullnullnullnullnullnullnullnullnullnullnullnullnullnullnullnullnullnullnullnullnullnullnullnullnullnullnullnullnullnullnullnullnullnullnullnullnullnullnullnullnullnullnullnullnullnullnullnullnullnullnullnull, nullnullnullnullnullnullnullnullnullnullnullnullnullnullnullnullnullnullnullnullnullnullnullnullnullnullnullnullnullnullnullnullnullnullnullnullnullnullnullnullnullnullnullnullnullnullnullnullnullnullnullnullnullnullnullnullnullnullnullnullnullnullnullnullnullnullnullnullnullnullnullnullnullnullnullnullnullnullnullnullnullnullnullnullnullnullnullnullnullnullnullnullnullnullnullnullnullnullnullnullnullnullnullnullnullnullnullnullnullnullnullnullnullnullnullnullnullnullnullnullnullnullnullnullnullnullnullnullnullnullnullnullnullnullnullnullnullnullnullnullnullnullnullnullnullnullnullnullnullnullnullnullnullnullnullnullnullnullnullnullnullnullnullnullnullnullnullnullnullnullnullnullnullnullnullnullnullnullnullnullnullnullnullnullnullnullnullnullnullnullnullnullnullnullnullnullnullnullnullnull, yourpassword, password behavior, kind channel, protocol composition, vertical composition, outsourced computing, early stage ccsw, thing certain, buzzword grid cloud, stay exactly look, like infrastructure, notwithstanding latest, untested deployment associated\n",
      "\n",
      "Article Titles:\n",
      "YourPassword: applying feedback loops to improve security behavior of managing multiple passwords\n",
      "Sufficient conditions for vertical composition of security protocols\n",
      "4th cloud computing security workshop (CCSW 2012)\n",
      "Eternal War in Memory\n",
      "\n",
      "****************************************************************************************************\n",
      "TOPIC 7:\n",
      "Top Words:  nullnullnullnullnullnullnullnullnullnullnullnullnullnullnullnullnullnullnullnullnullnullnullnullnullnullnullnullnullnullnullnullnullnullnullnullnullnullnullnullnullnullnullnullnullnullnullnullnullnullnullnullnullnullnullnullnullnullnullnullnullnullnullnullnullnullnullnullnullnullnullnullnullnullnullnullnullnullnullnullnullnullnullnullnullnullnullnullnullnullnullnullnullnullnullnullnullnullnullnullnullnullnullnullnullnullnullnullnullnullnullnullnullnullnullnullnullnullnullnullnullnullnullnullnullnullnullnullnullnullnullnullnullnullnullnullnullnullnullnullnullnullnullnullnullnullnullnullnullnullnullnullnullnullnullnullnullnullnullnullnullnullnullnullnullnullnullnullnullnullnullnullnullnullnullnullnullnullnullnullnullnullnullnullnullnullnullnullnullnullnullnullnullnullnullnullnullnullnullnullnullnullnullnullnullnullnullnullnullnullnullnullnullnullnullnullnullnullnullnullnullnullnullnullnullnullnullnullnullnullnullnullnullnullnullnullnullnullnullnullnullnullnullnullnullnullnullnullnullnullnullnullnullnullnullnullnullnullnullnullnullnullnullnullnullnullnullnullnullnullnullnullnullnullnullnullnullnullnullnullnullnullnullnullnullnullnullnullnullnullnullnullnullnullnullnullnullnullnullnullnullnullnullnullnullnullnullnullnullnullnullnullnullnullnullnullnullnullnullnullnullnullnullnullnullnullnullnullnullnullnullnullnullnullnullnullnullnullnullnullnullnullnullnullnullnullnullnullnullnullnullnullnullnullnullnullnullnullnullnullnullnullnullnullnullnullnullnullnullnullnullnullnullnullnullnullnullnullnullnullnullnullnullnullnullnullnullnullnullnullnullnullnullnullnullnullnullnullnullnullnullnullnullnullnullnullnullnullnullnullnullnullnullnullnullnullnullnullnullnullnullnullnullnullnullnullnullnullnullnullnullnullnullnullnullnullnullnullnullnullnullnullnullnullnullnullnullnullnullnullnullnullnullnullnullnullnullnullnullnullnullnullnullnullnullnullnullnullnullnullnullnullnullnullnullnullnullnullnullnullnullnullnullnullnull, nullnullnullnullnullnullnullnullnullnullnullnullnullnullnullnullnullnullnullnullnullnullnullnullnullnullnullnullnullnullnullnullnullnullnullnullnullnullnullnullnullnullnullnullnullnullnullnullnullnullnullnullnullnullnullnullnullnullnullnullnullnullnullnullnullnullnullnullnullnullnullnullnullnullnullnullnullnullnullnullnullnullnullnullnullnullnullnullnullnullnullnullnullnullnullnullnullnullnullnullnullnullnullnullnullnullnullnullnullnullnullnullnullnullnullnullnullnullnullnullnullnullnullnullnullnullnullnullnullnullnullnullnullnullnullnullnullnullnullnullnullnullnullnullnullnullnullnullnullnullnullnullnullnullnullnullnullnullnullnullnullnullnullnullnullnullnullnullnullnullnullnullnullnullnullnullnullnullnullnullnullnullnullnullnullnullnullnullnullnullnullnullnullnullnullnullnullnullnullnullnullnullnullnullnullnullnullnullnullnullnullnull, honeyword, dtmf, compression algorithm, hashed password, set alarm, abusive, digit value, abusive advertising, role payment, honeywords, apps facebook whatsapp, observable delay pattern, popular real time\n",
      "\n",
      "Article Titles:\n",
      "Honeywords: making password-cracking detectable\n",
      "Priceless: the role of payments in abuse-advertised goods\n",
      "DEMO: On the real-time masking of the sound of credit cards using hot patching\n",
      "Compression for anti-adversarial learning\n",
      "\n",
      "****************************************************************************************************\n",
      "TOPIC 8:\n",
      "Top Words:  nullnullnullnullnullnullnullnullnullnullnullnullnullnullnullnullnullnullnullnullnullnullnullnullnullnullnullnullnullnullnullnullnullnullnullnullnullnullnullnullnullnullnullnullnullnullnullnullnullnullnullnullnullnullnullnullnullnullnullnullnullnullnullnullnullnullnullnullnullnullnullnullnullnullnullnullnullnullnullnullnullnullnullnullnullnullnullnullnullnullnullnullnullnullnullnullnullnullnullnullnullnullnullnullnullnullnullnullnullnullnullnullnullnullnullnullnullnullnullnullnullnullnullnullnullnullnullnullnullnullnullnullnullnullnullnullnullnullnullnullnullnullnullnullnullnullnullnullnullnullnullnullnullnullnullnullnullnullnullnullnullnullnullnullnullnullnullnullnullnullnullnullnullnullnullnullnullnullnullnullnullnullnullnullnullnullnullnullnullnullnullnullnullnullnullnullnullnullnullnullnullnullnullnullnullnullnullnullnullnullnullnullnullnullnullnullnullnullnullnullnullnullnullnullnullnullnullnullnullnullnullnullnullnullnullnullnullnullnullnullnullnullnullnullnullnullnullnullnullnullnullnullnullnullnullnullnullnullnullnullnullnullnullnullnullnullnullnullnullnullnullnullnullnullnullnullnullnullnullnullnullnullnullnullnullnullnullnullnullnullnullnullnullnullnullnullnullnullnullnullnullnullnullnullnullnullnullnullnullnullnullnullnullnullnullnullnullnullnullnullnullnullnullnullnullnullnullnullnullnullnullnullnullnullnullnullnullnullnullnullnullnullnullnullnullnullnullnullnullnullnullnullnullnullnullnullnullnullnullnullnullnullnullnullnullnullnullnullnullnullnullnullnullnullnullnullnullnullnullnullnullnullnullnullnullnullnullnullnullnullnullnullnullnullnullnullnullnullnullnullnullnullnullnullnullnullnullnullnullnullnullnullnullnullnullnullnullnullnullnullnullnullnullnullnullnullnullnullnullnullnullnullnullnullnullnullnullnullnullnullnullnullnullnullnullnullnullnullnullnullnullnullnullnullnullnullnullnullnullnullnullnullnullnullnullnullnullnullnullnullnullnullnullnullnullnullnullnullnullnullnullnullnullnullnullnullnullnullnullnullnullnullnullnullnullnullnullnullnullnullnullnullnullnullnullnullnullnullnullnullnullnullnullnullnullnullnullnullnullnullnullnullnullnullnullnullnullnullnullnullnullnullnullnullnullnullnullnullnullnullnullnullnullnullnullnullnullnullnullnullnullnullnullnullnullnullnullnullnullnullnullnullnullnullnullnullnullnullnullnullnullnullnullnullnullnullnullnullnullnullnullnullnullnullnullnullnullnullnullnullnullnullnullnullnullnullnullnullnullnullnullnullnullnullnullnullnull, tumor, tumor payload, renren, rapid release, fourth party, renren application, reasonets, data separation, party tracking entity, osn application, facebook renren, fourth party tracking, tracking entity, platform study\n",
      "\n",
      "Article Titles:\n",
      "On The Security of Mobile Cockpit Information Systems\n",
      "APKLancet: tumor payload diagnosis and purification for android applications\n",
      "Diesel: applying privilege separation to database access\n",
      "Monetizing spambot activity and understanding its relation with spambot traffic features\n",
      "\n",
      "****************************************************************************************************\n",
      "TOPIC 9:\n",
      "Top Words:  security, attack, system, user, data, key, network, scheme, application, protocol, secure, privacy, information, paper, model\n",
      "\n",
      "Article Titles:\n",
      "Curtailing privilege escalation attacks over asynchronous channels on Android\n",
      "On the foundations of trust in networks of humans and computers\n",
      "Secure Multi-Party Sorting and Applications\n",
      "Key-evolution schemes resilient to space-bounded leakage\n",
      "\n",
      "****************************************************************************************************\n"
     ]
    }
   ],
   "metadata": {}
  },
  {
   "cell_type": "code",
   "execution_count": 118,
   "source": [
    "def get_representative_articles(topic_word_distr, doc_topic_distr, no_top_documents):\r\n",
    "    representatives_df = pd.DataFrame()\r\n",
    "    # For each topic get n top docs sorted desc by their value\r\n",
    "    for topic_idx, topic in enumerate(topic_word_distr):\r\n",
    "        # Sort and reverse the list of the document distribution and slice it to no_top_documents\r\n",
    "        top_doc_indices = np.argsort( doc_topic_distr[:,topic_idx] )[::-1][0:no_top_documents]\r\n",
    "        # Add each of the top docs to a new representatives dataframe\r\n",
    "        for doc_index in top_doc_indices:\r\n",
    "            representatives_df = representatives_df.append(df_articles_ofCom.iloc[doc_index])\r\n",
    "    return representatives_df\r\n",
    "\r\n",
    "no_top_words = 30\r\n",
    "no_top_documents = 350     \r\n",
    "tf_feature_names = count_vectorizer.get_feature_names()\r\n",
    "representatives_df = get_representative_articles(abstracts_topic_word_distr, abstracts_doc_topic_distr, no_top_documents)\r\n",
    "representatives_df.drop_duplicates(inplace=True)\r\n",
    "for col in ['ID_Article', 'communityId', 'ID_RelatedVenue', 'year']:\r\n",
    "    representatives_df[col] = representatives_df[col].astype('int')"
   ],
   "outputs": [],
   "metadata": {}
  },
  {
   "cell_type": "markdown",
   "source": [
    "<!-- representatives_df.to_csv(\"../representatives/firstRun/repr_\" + str(community_id_to_use) + \".csv\", index=False)\r\n",
    "representatives_df -->"
   ],
   "metadata": {}
  },
  {
   "cell_type": "code",
   "execution_count": 119,
   "source": [
    "# representative_df.to_csv(\"../representatives/firstRun/repr_\" + str(community_id_to_use) + \".csv\", index=False)\r\n",
    "# representative_df"
   ],
   "outputs": [],
   "metadata": {}
  }
 ],
 "metadata": {
  "kernelspec": {
   "name": "python3",
   "display_name": "Python 3.8.11 64-bit ('py388': conda)"
  },
  "language_info": {
   "codemirror_mode": {
    "name": "ipython",
    "version": 3
   },
   "file_extension": ".py",
   "mimetype": "text/x-python",
   "name": "python",
   "nbconvert_exporter": "python",
   "pygments_lexer": "ipython3",
   "version": "3.8.11"
  },
  "interpreter": {
   "hash": "dd7b077b78974e5e82c31fabdde043f300e0825cf3250192eb04afa2c17f69ec"
  }
 },
 "nbformat": 4,
 "nbformat_minor": 2
}